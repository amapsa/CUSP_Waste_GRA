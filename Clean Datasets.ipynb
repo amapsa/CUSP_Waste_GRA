{
 "cells": [
  {
   "cell_type": "markdown",
   "metadata": {
    "collapsed": false
   },
   "source": [
    "# CUSP WASTE GRA\n",
    "___\n",
    "# 1 - Clean ACS datasets\n",
    "\n",
    "For each sub-dataset from ACS, I keep only a few variables that I are then be of some use for the modeling:\n",
    "1. Import the table\n",
    "2. Perform some manipulation (e.g. columns sum)\n",
    "3. Rename the columns\n",
    "4. Keep a subset of the variables\n",
    "5. Save it"
   ]
  },
  {
   "cell_type": "code",
   "execution_count": 2,
   "metadata": {
    "collapsed": true
   },
   "outputs": [],
   "source": [
    "import sys\n",
    "import os\n",
    "import pandas as pd\n",
    "sys.path.append(os.getenv('WASTE') + '/wlib/')\n",
    "import waste\n",
    "import numpy as np"
   ]
  },
  {
   "cell_type": "markdown",
   "metadata": {},
   "source": [
    "## A - Children"
   ]
  },
  {
   "cell_type": "code",
   "execution_count": 3,
   "metadata": {
    "collapsed": true
   },
   "outputs": [],
   "source": [
    "acs1 = pd.read_csv(os.getenv('WASTE') + '/Data/CT_Children/ACS_13_5YR_B09002_with_ann.csv')"
   ]
  },
  {
   "cell_type": "code",
   "execution_count": 4,
   "metadata": {
    "collapsed": false
   },
   "outputs": [],
   "source": [
    "acs1['hh_wchild'] = acs1['HD01_VD01'].convert_objects(convert_numeric=True) #Convert strings to numeric\n",
    "acs1 = acs1[['GEO.id2', 'GEO.display-label', 'hh_wchild']] #Keep only a subset of variable\n",
    "acs1 = acs1.rename(columns = {'GEO.id2': 'tract_id', 'GEO.display-label': 'tract_name'}) #Rename some columns\n",
    "#acs1.describe()"
   ]
  },
  {
   "cell_type": "markdown",
   "metadata": {},
   "source": [
    "## B - Education"
   ]
  },
  {
   "cell_type": "code",
   "execution_count": 5,
   "metadata": {
    "collapsed": false
   },
   "outputs": [],
   "source": [
    "acs2 = pd.read_csv(os.getenv('WASTE') + '/Data/CT_Education/ACS_13_5YR_B15003_with_ann.csv')"
   ]
  },
  {
   "cell_type": "code",
   "execution_count": 6,
   "metadata": {
    "collapsed": false
   },
   "outputs": [],
   "source": [
    "cols = [c for c in acs2.columns if c != 'GEO.id2']\n",
    "acs2[cols] = acs2[cols].convert_objects(convert_numeric=True)"
   ]
  },
  {
   "cell_type": "code",
   "execution_count": 7,
   "metadata": {
    "collapsed": false
   },
   "outputs": [],
   "source": [
    "# The first two lines define the columns I want to sum, and then sum them\n",
    "cols = [c for c in acs2.columns if (c[2:4] == '01') and c[-2:] in ('20','21','22','23','24','25')]\n",
    "acs2['college'] = acs2[cols].sum(axis=1)\n",
    "acs2['ncollege'] =  acs2['HD01_VD01'] - acs2['college']\n",
    "\n",
    "acs2 = acs2.rename(columns = {'GEO.id2': 'tract_id', 'GEO.display-label': 'tract_name'})\n",
    "acs2 = acs2[['tract_id', 'tract_name', 'college', 'ncollege']]\n",
    "#acs2.describe()"
   ]
  },
  {
   "cell_type": "markdown",
   "metadata": {},
   "source": [
    "## C - Employment"
   ]
  },
  {
   "cell_type": "code",
   "execution_count": 8,
   "metadata": {
    "collapsed": false
   },
   "outputs": [],
   "source": [
    "acs3 = pd.read_csv(os.getenv('WASTE') + '/Data/CT_Employment/ACS_13_5YR_B23025_with_ann.csv')"
   ]
  },
  {
   "cell_type": "code",
   "execution_count": 9,
   "metadata": {
    "collapsed": false
   },
   "outputs": [],
   "source": [
    "acs3[['empl', 'unempl']] = acs3[['HD01_VD04', 'HD01_VD05']].convert_objects(convert_numeric=True)\n",
    "acs3 = acs3.rename(columns = {'GEO.id2': 'tract_id', 'GEO.display-label': 'tract_name'})\n",
    "\n",
    "acs3 = acs3[['tract_id', 'tract_name', 'empl', 'unempl']]\n",
    "#acs3.describe()"
   ]
  },
  {
   "cell_type": "markdown",
   "metadata": {},
   "source": [
    "## D - Food stamps"
   ]
  },
  {
   "cell_type": "code",
   "execution_count": 10,
   "metadata": {
    "collapsed": false
   },
   "outputs": [],
   "source": [
    "acs4 = pd.read_csv(os.getenv('WASTE') + '/Data/CT_Food_Stamps/ACS_13_5YR_B19058_with_ann.csv')"
   ]
  },
  {
   "cell_type": "code",
   "execution_count": 11,
   "metadata": {
    "collapsed": false
   },
   "outputs": [],
   "source": [
    "acs4[['help', 'nhelp']] = acs4[['HD01_VD02', 'HD01_VD03']].convert_objects(convert_numeric=True)\n",
    "acs4 = acs4.rename(columns = {'GEO.id2': 'tract_id', 'GEO.display-label': 'tract_name'})\n",
    "\n",
    "acs4 = acs4[['tract_id', 'tract_name', 'help', 'nhelp']]\n",
    "#acs4.describe()"
   ]
  },
  {
   "cell_type": "markdown",
   "metadata": {},
   "source": [
    "## E - Income"
   ]
  },
  {
   "cell_type": "code",
   "execution_count": 12,
   "metadata": {
    "collapsed": true
   },
   "outputs": [],
   "source": [
    "acs5 = pd.read_csv(os.getenv('WASTE') + '/Data/CT_HH_Income/ACS_13_5YR_B19001_with_ann.csv')"
   ]
  },
  {
   "cell_type": "code",
   "execution_count": 13,
   "metadata": {
    "collapsed": false
   },
   "outputs": [],
   "source": [
    "brackets = ['hh_tot', 'inc10', 'inc15', 'inc20', 'inc25', 'inc30', 'inc35', 'inc40', 'inc45',\n",
    "            'inc50', 'inc60', 'inc75', 'inc100', 'inc125', 'inc150', 'inc200', 'inc200+']\n",
    "cols = [c for c in acs5.columns if c[2:4] == '01']\n",
    "acs5[brackets] = acs5[cols].convert_objects(convert_numeric=True)\n",
    "acs5 = acs5.rename(columns = {'GEO.id2': 'tract_id', 'GEO.display-label': 'tract_name'})\n",
    "\n",
    "acs5 = acs5[['tract_id', 'tract_name'] + brackets]\n",
    "#acs5.describe()"
   ]
  },
  {
   "cell_type": "markdown",
   "metadata": {},
   "source": [
    "## F - Household size"
   ]
  },
  {
   "cell_type": "code",
   "execution_count": 14,
   "metadata": {
    "collapsed": true
   },
   "outputs": [],
   "source": [
    "acs6 = pd.read_csv(os.getenv('WASTE') + '/Data/CT_HH_size/ACS_13_5YR_B11016_with_ann.csv')"
   ]
  },
  {
   "cell_type": "code",
   "execution_count": 15,
   "metadata": {
    "collapsed": false
   },
   "outputs": [],
   "source": [
    "acs6[['family', 'nfamily', 'single']] = acs6[['HD01_VD02', 'HD01_VD09', \n",
    "                                              'HD01_VD10']].convert_objects(convert_numeric=True)\n",
    "acs6['roomies'] = acs6['nfamily'] - acs6['single']\n",
    "\n",
    "acs6 = acs6.rename(columns = {'GEO.id2': 'tract_id', 'GEO.display-label': 'tract_name'})\n",
    "acs6 = acs6[['tract_id', 'tract_name', 'family', 'single', 'roomies']]\n",
    "#acs6.describe()"
   ]
  },
  {
   "cell_type": "markdown",
   "metadata": {},
   "source": [
    "## G - Income"
   ]
  },
  {
   "cell_type": "code",
   "execution_count": 16,
   "metadata": {
    "collapsed": true
   },
   "outputs": [],
   "source": [
    "acs7 = pd.read_csv(os.getenv('WASTE') + '/Data/CT_Income/ACS_13_5YR_B19313_with_ann.csv')"
   ]
  },
  {
   "cell_type": "code",
   "execution_count": 17,
   "metadata": {
    "collapsed": false
   },
   "outputs": [],
   "source": [
    "acs7['aggr_inc'] = acs7['HD01_VD01'].convert_objects(convert_numeric=True)\n",
    "\n",
    "acs7 = acs7.rename(columns = {'GEO.id2': 'tract_id', 'GEO.display-label': 'tract_name'})\n",
    "acs7 = acs7[['tract_id', 'tract_name', 'aggr_inc']]\n",
    "#acs7.describe()"
   ]
  },
  {
   "cell_type": "markdown",
   "metadata": {},
   "source": [
    "## H - Industry"
   ]
  },
  {
   "cell_type": "code",
   "execution_count": 18,
   "metadata": {
    "collapsed": true
   },
   "outputs": [],
   "source": [
    "acs8 = pd.read_csv(os.getenv('WASTE') + '/Data/CT_Industry/ACS_13_5YR_C24050_with_ann.csv')"
   ]
  },
  {
   "cell_type": "code",
   "execution_count": 19,
   "metadata": {
    "collapsed": false
   },
   "outputs": [],
   "source": [
    "ind = ['ind_tot', 'ind_mgt', 'ind_serv', 'ind_sale', 'ind_const', 'ind_trans']\n",
    "cols = [c for c in acs8.columns if (c[2:4] == '01') and c[7:9] in ('01','16','30','44','58','72')]\n",
    "acs8[ind] = acs8[cols].convert_objects(convert_numeric=True)\n",
    "\n",
    "acs8 = acs8.rename(columns = {'GEO.id2': 'tract_id', 'GEO.display-label': 'tract_name'})\n",
    "acs8 = acs8[['tract_id', 'tract_name'] + ind]\n",
    "#acs8.describe()"
   ]
  },
  {
   "cell_type": "markdown",
   "metadata": {},
   "source": [
    "## I - Rooms"
   ]
  },
  {
   "cell_type": "code",
   "execution_count": 20,
   "metadata": {
    "collapsed": true
   },
   "outputs": [],
   "source": [
    "acs9 = pd.read_csv(os.getenv('WASTE') + '/Data/CT_Rooms/ACS_13_5YR_B25019_with_ann.csv')"
   ]
  },
  {
   "cell_type": "code",
   "execution_count": 21,
   "metadata": {
    "collapsed": false
   },
   "outputs": [],
   "source": [
    "acs9['rooms'] = acs9['HD01_VD01'].convert_objects(convert_numeric=True)\n",
    "acs9 = acs9.rename(columns = {'GEO.id2': 'tract_id', 'GEO.display-label': 'tract_name'})\n",
    "acs9 = acs9[['tract_id', 'tract_name', 'rooms']]\n",
    "#acs9.describe()"
   ]
  },
  {
   "cell_type": "markdown",
   "metadata": {},
   "source": [
    "## J - Units"
   ]
  },
  {
   "cell_type": "code",
   "execution_count": 22,
   "metadata": {
    "collapsed": true
   },
   "outputs": [],
   "source": [
    "acs10 = pd.read_csv(os.getenv('WASTE') + '/Data/CT_Units/ACS_13_5YR_B25001_with_ann.csv')"
   ]
  },
  {
   "cell_type": "code",
   "execution_count": 23,
   "metadata": {
    "collapsed": false
   },
   "outputs": [],
   "source": [
    "acs10['units'] = acs10['HD01_VD01'].convert_objects(convert_numeric=True)\n",
    "acs10 = acs10.rename(columns = {'GEO.id2': 'tract_id', 'GEO.display-label': 'tract_name'})\n",
    "acs10 = acs10[['tract_id', 'tract_name', 'units']]\n",
    "#acs10.describe()"
   ]
  },
  {
   "cell_type": "markdown",
   "metadata": {},
   "source": [
    "## K - Age"
   ]
  },
  {
   "cell_type": "code",
   "execution_count": 24,
   "metadata": {
    "collapsed": true
   },
   "outputs": [],
   "source": [
    "acs11 = pd.read_csv(os.getenv('WASTE') + '/Data/CT_Age/ACS_13_5YR_S0101_with_ann.csv')"
   ]
  },
  {
   "cell_type": "code",
   "execution_count": 25,
   "metadata": {
    "collapsed": false
   },
   "outputs": [],
   "source": [
    "cols = [c for c in acs11.columns if c != 'GEO.id2']\n",
    "acs11[cols] = acs11[cols].convert_objects(convert_numeric=True)\n",
    "acs11 = acs11.rename(columns = {'GEO.id2': 'tract_id', 'GEO.display-label': 'tract_name',\n",
    "                                'HC01_EST_VC01': 'pop13'})\n",
    "\n",
    "cols_c = [c for c in acs11.columns if (c[2:6] == '01_E') and (c[-2:] in ('03', '04', '05', '06'))]\n",
    "acs11['child'] = np.round(acs11[cols_c].sum(axis=1)*acs11['pop13']/100)\n",
    "\n",
    "cols_a = [c for c in acs11.columns if (c[2:6] == '01_E') and c[-2:] in ('07', '08', '09', '10',\n",
    "                                                                     '11', '12', '13', '14')]\n",
    "acs11['adult'] = np.round(acs11[cols_a].sum(axis=1)*acs11['pop13']/100)\n",
    "\n",
    "acs11['old'] = acs11['pop13'] - acs11['child'] - acs11['adult']\n",
    "\n",
    "acs11 = acs11[['tract_id', 'tract_name', 'pop13', 'child', 'adult', 'old']]\n",
    "#acs11.describe()"
   ]
  },
  {
   "cell_type": "markdown",
   "metadata": {},
   "source": [
    "# 2 - Merge"
   ]
  },
  {
   "cell_type": "code",
   "execution_count": 26,
   "metadata": {
    "collapsed": false
   },
   "outputs": [],
   "source": [
    "acs = [acs1,acs2,acs3,acs4,acs5,acs6,acs7,acs8,acs9,acs10,acs11]\n",
    "df = dict()\n",
    "for i,d in enumerate(acs):\n",
    "    if i==0:\n",
    "        df[i] = acs1\n",
    "    else:\n",
    "        df[i] = pd.merge(df[i-1], d, on=['tract_id', 'tract_name'])\n",
    "\n",
    "df[10].to_csv(os.getenv('WASTE') + '/Data/acs_m.csv')"
   ]
  },
  {
   "cell_type": "code",
   "execution_count": 27,
   "metadata": {
    "collapsed": false
   },
   "outputs": [],
   "source": [
    "desc = ['11-digit Census Tract id ', 'Census Tract Name',\n",
    "       'Number of HH with children',\n",
    "       'Number of persons with college education', 'Number of persons without college education',\n",
    "       'Number of persons employed', 'Number of persons unemployed',\n",
    "       'Number of households receiving food stamps or cash help',\n",
    "       'Number of households not receiving food stamps or cash help',\n",
    "       'Number of households', 'Number of households earning less than $10,000',\n",
    "       'Number of households earning $10,000-$15,000', 'Number of households earning $15,000-$20,000',\n",
    "       'Number of households earning $20,000-$25,000', 'Number of households earning $25,000-$30,000',\n",
    "       'Number of households earning $30,000-$35,000', 'Number of households earning $35,000-$40,000',\n",
    "       'Number of households earning $40,000-$45,000', 'Number of households earning $45,000-$50,000',\n",
    "       'Number of households earning $50,000-$60,000', 'Number of households earning $60,000-$75,000',\n",
    "       'Number of households earning $75,000-$100,000', 'Number of households earning $100,000-$125,000',\n",
    "       'Number of households earning $125,000-$150,000', 'Number of households earning $150,000-$200,000',\n",
    "       'Number of households earning more than $200,000',\n",
    "       'Number of family households', 'Number of single-person households',\n",
    "       'Number of non-family multipersons households',\n",
    "       'Aggregated income', 'Number of persons working, all positions (equal to empl)',\n",
    "       'Number of persons working, management', 'Number of persons working, services',\n",
    "       'Number of persons working, sales', 'Number of persons working, construction',\n",
    "       'Number of persons working, transportation',\n",
    "       'Number of rooms', 'Number of units', 'Total population',\n",
    "       'Number of persons under 19', 'Number of persons aged 19-59', 'Number of persons over 59']\n",
    "\n",
    "metadata = dict()\n",
    "for i,c in enumerate(df[10].columns.tolist()):\n",
    "    metadata[c] = desc[i]\n",
    "pd.DataFrame.from_dict(metadata,orient='index').to_csv(os.getenv('WASTE') + '/Data/acs_m_metadata.csv')"
   ]
  }
 ],
 "metadata": {
  "kernelspec": {
   "display_name": "Python 2",
   "language": "python",
   "name": "python2"
  },
  "language_info": {
   "codemirror_mode": {
    "name": "ipython",
    "version": 2
   },
   "file_extension": ".py",
   "mimetype": "text/x-python",
   "name": "python",
   "nbconvert_exporter": "python",
   "pygments_lexer": "ipython2",
   "version": "2.7.10"
  }
 },
 "nbformat": 4,
 "nbformat_minor": 0
}
