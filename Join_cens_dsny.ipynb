{
 "cells": [
  {
   "cell_type": "markdown",
   "metadata": {},
   "source": [
    "# CUSP WASTE GRA\n",
    "___\n",
    "# 1 - Compute ACS at Tract Level"
   ]
  },
  {
   "cell_type": "code",
   "execution_count": 432,
   "metadata": {
    "collapsed": false
   },
   "outputs": [
    {
     "name": "stdout",
     "output_type": "stream",
     "text": [
      "Populating the interactive namespace from numpy and matplotlib\n"
     ]
    },
    {
     "name": "stderr",
     "output_type": "stream",
     "text": [
      "WARNING: pylab import has clobbered these variables: ['append', 'array', 'mod']\n",
      "`%matplotlib` prevents importing * from pylab and numpy\n"
     ]
    }
   ],
   "source": [
    "import sys\n",
    "import os\n",
    "import numpy as np\n",
    "%pylab inline\n",
    "\n",
    "# read in pandas and geopandas for data processing\n",
    "import pandas as pd\n",
    "import geopandas as geo"
   ]
  },
  {
   "cell_type": "markdown",
   "metadata": {},
   "source": [
    "## A - Get block \"shares\" in Census Tract \n",
    "\n",
    "From the census, I have the population and the housing numbers at the block level. I compute for each block the share of the census tract population/units that it contains. This will enable me to disaggregate the ACS data which is at the census tract level."
   ]
  },
  {
   "cell_type": "code",
   "execution_count": 433,
   "metadata": {
    "collapsed": true
   },
   "outputs": [],
   "source": [
    "census = geo.GeoDataFrame.from_file(os.getenv('WASTE')+'/Data/block_pop2010/tabblock2010_36_pophu_nyc.shp')"
   ]
  },
  {
   "cell_type": "code",
   "execution_count": 434,
   "metadata": {
    "collapsed": true
   },
   "outputs": [],
   "source": [
    "sum_tract = census.groupby([census.COUNTYFP10,census.TRACTCE10]).sum() #Get the total population by census tract\n",
    "sum_tract.columns = ['housing_tract', 'pop_tract']\n",
    "sum_tract.reset_index(inplace=True) #Put the census & county nb as columns & not indexes"
   ]
  },
  {
   "cell_type": "code",
   "execution_count": 435,
   "metadata": {
    "collapsed": false
   },
   "outputs": [],
   "source": [
    "census2 = census.merge(sum_tract, on=['COUNTYFP10', 'TRACTCE10'])\n",
    "\n",
    "census2['POP_SHARE'] = census2.POP10/census2.pop_tract\n",
    "census2['HOUS_SHARE'] = census2.HOUSING10/census2.housing_tract\n",
    "\n",
    "# Housekeeping: block-level variables are in capital letters, tract-level are not\n",
    "census2 = census2.rename(columns = {'TRACTCE10': 'tractce10', 'COUNTYFP10': 'countyfp10',\n",
    "                                'STATEFP10': 'statefp10'})"
   ]
  },
  {
   "cell_type": "code",
   "execution_count": 436,
   "metadata": {
    "collapsed": false
   },
   "outputs": [],
   "source": [
    "census2['tract_id'] = census2.BLOCKID10.str[:11] # Extract Census id from Block id\n",
    "cols = census2.columns.tolist()[-1:] + census2.columns.tolist()[:-1] # Rearrange columns to put tract id first\n",
    "census2 = census2[cols]"
   ]
  },
  {
   "cell_type": "markdown",
   "metadata": {},
   "source": [
    "## B - Merge with ACS CT-level\n",
    "\n",
    "I \"attach\" to each block the statistics of its census tracts. And then multiply those stats by the share of the block in the census tract in terms of housing or population (depending on the variable)."
   ]
  },
  {
   "cell_type": "code",
   "execution_count": 437,
   "metadata": {
    "collapsed": true
   },
   "outputs": [],
   "source": [
    "acs = pd.read_csv(os.getenv('WASTE') + '/Data/acs_m.csv')"
   ]
  },
  {
   "cell_type": "code",
   "execution_count": 438,
   "metadata": {
    "collapsed": true
   },
   "outputs": [],
   "source": [
    "merged = census2.merge(acs, on='tract_id')\n",
    "merged = merged.drop('Unnamed: 0', 1) # Drop acs index\n",
    "#merged.info()"
   ]
  },
  {
   "cell_type": "code",
   "execution_count": 439,
   "metadata": {
    "collapsed": false
   },
   "outputs": [],
   "source": [
    "#In hous are the variable at the household level (multiplied after by the share of tract units in the block)\n",
    "#In ind are the variables at the individual level\n",
    "hous = [c for c in merged.columns[15:] if c in ('hh_wchild', 'hh_tot', 'family', 'single', \n",
    "                                           'roomies', 'rooms', 'units') or c[:3] == 'inc']\n",
    "ind = [c for c in merged.columns[15:] if c not in hous]\n",
    "\n",
    "for c in merged.columns[15:]:\n",
    "    if c in hous:\n",
    "        merged[c.upper()] = np.round(merged[c]*merged.HOUS_SHARE)\n",
    "        merged = merged.drop(c,1)\n",
    "    else:\n",
    "        merged[c.upper()] = np.round(merged[c]*merged.POP_SHARE)\n",
    "        merged = merged.drop(c,1)"
   ]
  },
  {
   "cell_type": "markdown",
   "metadata": {},
   "source": [
    "# 2 - Join Census and DSNY\n",
    "## A - Get ACS data at the DSNY Section level\n",
    "\n",
    "I have disaggregated the ACS data at the block-level. So for each block I know a range of statistics and the DSNY section in which it is, through a spatial join."
   ]
  },
  {
   "cell_type": "code",
   "execution_count": 440,
   "metadata": {
    "collapsed": false
   },
   "outputs": [
    {
     "name": "stdout",
     "output_type": "stream",
     "text": [
      "<class 'geopandas.geodataframe.GeoDataFrame'>\n",
      "Int64Index: 232 entries, 0 to 231\n",
      "Data columns (total 8 columns):\n",
      "District      232 non-null object\n",
      "OBJECTID      232 non-null int64\n",
      "Section_      232 non-null object\n",
      "Sections      232 non-null object\n",
      "Shape_Area    232 non-null float64\n",
      "Shape_Leng    232 non-null float64\n",
      "Zone          232 non-null object\n",
      "geometry      232 non-null object\n",
      "dtypes: float64(2), int64(1), object(5)\n",
      "memory usage: 16.3+ KB\n",
      "None\n"
     ]
    }
   ],
   "source": [
    "# Read in DSNY\n",
    "dsny = geo.GeoDataFrame.from_file(os.getenv('WASTE')+'/Data/DSNY_Sections/DSNY_sections.shp')\n",
    "print dsny.info()"
   ]
  },
  {
   "cell_type": "code",
   "execution_count": 441,
   "metadata": {
    "collapsed": false
   },
   "outputs": [],
   "source": [
    "# view sections\n",
    "# dsny.plot()"
   ]
  },
  {
   "cell_type": "code",
   "execution_count": 442,
   "metadata": {
    "collapsed": true
   },
   "outputs": [],
   "source": [
    "sys.path.append(os.getenv('WASTE') + '/wlib/')\n",
    "from geopandas.tools import sjoin\n",
    "from spatial import spatial_join"
   ]
  },
  {
   "cell_type": "code",
   "execution_count": 455,
   "metadata": {
    "collapsed": false
   },
   "outputs": [],
   "source": [
    "df = spatial_join(merged,dsny)"
   ]
  },
  {
   "cell_type": "markdown",
   "metadata": {},
   "source": [
    "Note: When I do the spatial join, 200 blocks with non-null population are not matched with any section. Their cumulated population is equal to ~32,000 persons. Those are blocks outside the spatial boundaries of DSNY Sections."
   ]
  },
  {
   "cell_type": "code",
   "execution_count": 475,
   "metadata": {
    "collapsed": false
   },
   "outputs": [
    {
     "name": "stdout",
     "output_type": "stream",
     "text": [
      "Population before join: 8,268,563.0\n",
      "Population after join: 8,236,420.0 \n",
      "\n",
      "Repartition of missing block by county:\n",
      "081    145\n",
      "061     16\n",
      "005     15\n",
      "085     13\n",
      "047     11\n",
      "dtype: int64\n",
      "\n",
      "Repartition of blocks by county, total:\n",
      "081    14509\n",
      "047     9753\n",
      "005     5460\n",
      "085     5077\n",
      "061     3902\n",
      "dtype: int64\n"
     ]
    }
   ],
   "source": [
    "print \"Population before join: {0:,}\".format(merged.POP13.sum())\n",
    "print \"Population after join: {0:,} \\n\".format(df[df.Sections.isnull() == False].POP13.sum())\n",
    "\n",
    "print \"Repartition of missing block by county:\" \n",
    "print df.countyfp10[(df.Sections.isnull() == True) & (df.POP13 != 0) & (df.POP13.isnull() == False)].value_counts()\n",
    "\n",
    "print \"\\nRepartition of blocks by county, total:\"\n",
    "print df.countyfp10.value_counts()"
   ]
  },
  {
   "cell_type": "code",
   "execution_count": 445,
   "metadata": {
    "collapsed": false
   },
   "outputs": [
    {
     "data": {
      "text/plain": [
       "Index([     u'Sections',     u'HOUSING10',         u'POP10', u'housing_tract',\n",
       "           u'pop_tract',     u'POP_SHARE',    u'HOUS_SHARE',     u'HH_WCHILD',\n",
       "             u'COLLEGE',      u'NCOLLEGE',          u'EMPL',        u'UNEMPL',\n",
       "                u'HELP',         u'NHELP',        u'HH_TOT',         u'INC10',\n",
       "               u'INC15',         u'INC20',         u'INC25',         u'INC30',\n",
       "               u'INC35',         u'INC40',         u'INC45',         u'INC50',\n",
       "               u'INC60',         u'INC75',        u'INC100',        u'INC125',\n",
       "              u'INC150',        u'INC200',       u'INC200+',        u'FAMILY',\n",
       "              u'SINGLE',       u'ROOMIES',      u'AGGR_INC',       u'IND_TOT',\n",
       "             u'IND_MGT',      u'IND_SERV',      u'IND_SALE',     u'IND_CONST',\n",
       "           u'IND_TRANS',         u'ROOMS',         u'UNITS',         u'POP13',\n",
       "               u'CHILD',         u'ADULT',           u'OLD',      u'OBJECTID',\n",
       "          u'Shape_Area',    u'Shape_Leng'],\n",
       "      dtype='object')"
      ]
     },
     "execution_count": 445,
     "metadata": {},
     "output_type": "execute_result"
    }
   ],
   "source": [
    "#I generate a table with the statistics sum by DSNY section\n",
    "acs_section = df.groupby(df.Sections).sum()\n",
    "acs_section.reset_index(inplace=True) #Put the census & county nb as columns & not indexes\n",
    "acs_section.columns"
   ]
  },
  {
   "cell_type": "markdown",
   "metadata": {},
   "source": [
    "I have kept \"raw\" numbers until this step. But to input those statistics in the model, I need them to be expressed relatively. I thus compute ratios for most statistics, and keep only the ratios at the section level."
   ]
  },
  {
   "cell_type": "code",
   "execution_count": 446,
   "metadata": {
    "collapsed": false
   },
   "outputs": [],
   "source": [
    "pd.options.mode.chained_assignment = None\n",
    "acs_final = acs_section[['Sections', 'HH_TOT', 'POP13']]\n",
    "\n",
    "acs_final['hh_wchild'] = acs_section['HH_WCHILD']/acs_section['HH_TOT']\n",
    "acs_final['college'] = acs_section['COLLEGE']/(acs_section['NCOLLEGE'] + acs_section['COLLEGE'])\n",
    "acs_final['unempl'] = acs_section['UNEMPL']/(acs_section['EMPL'] + acs_section['UNEMPL'])\n",
    "acs_final['help'] = acs_section['HELP']/(acs_section['HELP'] + acs_section['NHELP'])\n",
    "\n",
    "acs_final['family'] = acs_section['FAMILY']/(acs_section['FAMILY'] + acs_section['SINGLE'] + acs_section['ROOMIES'])\n",
    "acs_final['avg_inc'] = acs_section['AGGR_INC']/acs_section['POP13']\n",
    "acs_final['mgt'] = acs_section['IND_MGT']/acs_section['IND_TOT']\n",
    "acs_final['rooms'] = acs_section['ROOMS']/acs_section['UNITS']\n",
    "acs_final['density'] = acs_section['POP13']/acs_section['ROOMS']\n",
    "acs_final['adult'] = acs_section['ADULT']/(acs_section['CHILD'] + acs_section['ADULT'] + acs_section['OLD'])"
   ]
  },
  {
   "cell_type": "markdown",
   "metadata": {},
   "source": [
    "Computing the median income is a little bit trickier, as I only have counts of number of household in each income bracket. I could create a new dataset with a point for each household and its corresponding income bracket. But I thought it would be easier to proceed otherwise:\n",
    "1. I compute the cumulated frequency table for income\n",
    "2. I compute the rank of the median observation ($\\frac{n+1}{2}$ if n is odd, $\\frac{n}{2}$ if n the number of observations is even).\n",
    "3. I go through the cumulated frequency table and keep the first bracket for which the cumulated count is higher than the rank of the median observation."
   ]
  },
  {
   "cell_type": "code",
   "execution_count": 448,
   "metadata": {
    "collapsed": false
   },
   "outputs": [],
   "source": [
    "INC = ['INC10', 'INC15', 'INC20', 'INC25', 'INC30', 'INC35', 'INC40', 'INC45',\n",
    "       'INC50', 'INC60', 'INC75', 'INC100', 'INC125', 'INC150', 'INC200', 'INC200+']\n",
    "\n",
    "df = acs_section[INC].cumsum(axis=1)\n",
    "df['Sections'] = acs_section.Sections\n",
    "df['m_rank'] = np.ceil(df['INC200+']/2)\n",
    "df['median'] = 'INC10'\n",
    "\n",
    "for index, row in df.iterrows():\n",
    "    for cat in INC:\n",
    "        if (df[cat][index] > df['m_rank'][index]):\n",
    "            df['median'][index] = cat\n",
    "            break\n",
    "        else:\n",
    "            continue"
   ]
  },
  {
   "cell_type": "markdown",
   "metadata": {},
   "source": [
    "I finally merge the computed median income and the other statistics at the DSNY section level. Five sections have a percentage of households with children higher than one. In all of them, the total number of households with children is higher than the number of units, which does not make sense. I thus discard the statistic household with children for those five sections, on the basis of misreported statistic."
   ]
  },
  {
   "cell_type": "code",
   "execution_count": 449,
   "metadata": {
    "collapsed": false
   },
   "outputs": [
    {
     "data": {
      "text/html": [
       "<div>\n",
       "<table border=\"1\" class=\"dataframe\">\n",
       "  <thead>\n",
       "    <tr style=\"text-align: right;\">\n",
       "      <th></th>\n",
       "      <th>Sections</th>\n",
       "      <th>HH_TOT</th>\n",
       "      <th>POP13</th>\n",
       "      <th>hh_wchild</th>\n",
       "      <th>college</th>\n",
       "      <th>unempl</th>\n",
       "      <th>help</th>\n",
       "      <th>family</th>\n",
       "      <th>avg_inc</th>\n",
       "      <th>mgt</th>\n",
       "      <th>rooms</th>\n",
       "      <th>density</th>\n",
       "      <th>adult</th>\n",
       "      <th>median</th>\n",
       "    </tr>\n",
       "  </thead>\n",
       "  <tbody>\n",
       "    <tr>\n",
       "      <th>0</th>\n",
       "      <td>BKN011</td>\n",
       "      <td>10120</td>\n",
       "      <td>20437</td>\n",
       "      <td>0.184585</td>\n",
       "      <td>0.682689</td>\n",
       "      <td>0.068702</td>\n",
       "      <td>0.074682</td>\n",
       "      <td>0.381037</td>\n",
       "      <td>40821.693546</td>\n",
       "      <td>0.547385</td>\n",
       "      <td>3.996565</td>\n",
       "      <td>0.450343</td>\n",
       "      <td>0.764141</td>\n",
       "      <td>INC75</td>\n",
       "    </tr>\n",
       "    <tr>\n",
       "      <th>1</th>\n",
       "      <td>BKN012</td>\n",
       "      <td>16383</td>\n",
       "      <td>38057</td>\n",
       "      <td>0.292010</td>\n",
       "      <td>0.619310</td>\n",
       "      <td>0.078839</td>\n",
       "      <td>0.246616</td>\n",
       "      <td>0.445143</td>\n",
       "      <td>35408.281578</td>\n",
       "      <td>0.521961</td>\n",
       "      <td>3.592039</td>\n",
       "      <td>0.599899</td>\n",
       "      <td>0.723852</td>\n",
       "      <td>INC60</td>\n",
       "    </tr>\n",
       "  </tbody>\n",
       "</table>\n",
       "</div>"
      ],
      "text/plain": [
       "  Sections  HH_TOT  POP13  hh_wchild   college    unempl      help    family  \\\n",
       "0   BKN011   10120  20437   0.184585  0.682689  0.068702  0.074682  0.381037   \n",
       "1   BKN012   16383  38057   0.292010  0.619310  0.078839  0.246616  0.445143   \n",
       "\n",
       "        avg_inc       mgt     rooms   density     adult median  \n",
       "0  40821.693546  0.547385  3.996565  0.450343  0.764141  INC75  \n",
       "1  35408.281578  0.521961  3.592039  0.599899  0.723852  INC60  "
      ]
     },
     "execution_count": 449,
     "metadata": {},
     "output_type": "execute_result"
    }
   ],
   "source": [
    "acs_final = acs_final.merge(b[['Sections', 'median']], on='Sections')\n",
    "acs_final['hh_wchild'][acs_final['hh_wchild'] > 1] = np.nan\n",
    "acs_final.head(2)"
   ]
  },
  {
   "cell_type": "code",
   "execution_count": 477,
   "metadata": {
    "collapsed": false
   },
   "outputs": [
    {
     "data": {
      "text/plain": [
       "<matplotlib.axes._subplots.AxesSubplot at 0x122aec290>"
      ]
     },
     "execution_count": 477,
     "metadata": {},
     "output_type": "execute_result"
    },
    {
     "data": {
      "image/png": "[encoded data removed]",
      "text/plain": [
       "<matplotlib.figure.Figure at 0x11472b550>"
      ]
     },
     "metadata": {},
     "output_type": "display_data"
    }
   ],
   "source": [
    "acs_final['median'].value_counts().reindex(INC).plot(kind='bar', title=\"Frequency distribution of median income bracket\")"
   ]
  },
  {
   "cell_type": "markdown",
   "metadata": {},
   "source": [
    "## B - Join ACS at the section level and DSNY waste data\n",
    "\n",
    "In the end, I associate the waste data and the socio-demographic statistics in a complete table."
   ]
  },
  {
   "cell_type": "code",
   "execution_count": 451,
   "metadata": {
    "collapsed": false
   },
   "outputs": [],
   "source": [
    "dsny_annual = pd.read_csv(os.getenv('WASTE')+'/Data/dsny_annual.csv')\n",
    "dsny_annual = dsny_annual.rename(columns = {'Section_Code': 'Sections'})"
   ]
  },
  {
   "cell_type": "code",
   "execution_count": 478,
   "metadata": {
    "collapsed": false
   },
   "outputs": [
    {
     "data": {
      "text/html": [
       "<div>\n",
       "<table border=\"1\" class=\"dataframe\">\n",
       "  <thead>\n",
       "    <tr style=\"text-align: right;\">\n",
       "      <th></th>\n",
       "      <th>Sections</th>\n",
       "      <th>HH_TOT</th>\n",
       "      <th>POP13</th>\n",
       "      <th>hh_wchild</th>\n",
       "      <th>college</th>\n",
       "      <th>unempl</th>\n",
       "      <th>help</th>\n",
       "      <th>family</th>\n",
       "      <th>avg_inc</th>\n",
       "      <th>mgt</th>\n",
       "      <th>rooms</th>\n",
       "      <th>density</th>\n",
       "      <th>adult</th>\n",
       "      <th>median</th>\n",
       "      <th>Material_Type_Code</th>\n",
       "      <th>Dump_Time_Stamp</th>\n",
       "      <th>Tons_Collected</th>\n",
       "      <th>year</th>\n",
       "    </tr>\n",
       "  </thead>\n",
       "  <tbody>\n",
       "    <tr>\n",
       "      <th>0</th>\n",
       "      <td>BKN011</td>\n",
       "      <td>10120</td>\n",
       "      <td>20437</td>\n",
       "      <td>0.184585</td>\n",
       "      <td>0.682689</td>\n",
       "      <td>0.068702</td>\n",
       "      <td>0.074682</td>\n",
       "      <td>0.381037</td>\n",
       "      <td>40821.693546</td>\n",
       "      <td>0.547385</td>\n",
       "      <td>3.996565</td>\n",
       "      <td>0.450343</td>\n",
       "      <td>0.764141</td>\n",
       "      <td>INC75</td>\n",
       "      <td>1</td>\n",
       "      <td>2003-12-31 00:00:00</td>\n",
       "      <td>5292.83</td>\n",
       "      <td>2003</td>\n",
       "    </tr>\n",
       "    <tr>\n",
       "      <th>1</th>\n",
       "      <td>BKN011</td>\n",
       "      <td>10120</td>\n",
       "      <td>20437</td>\n",
       "      <td>0.184585</td>\n",
       "      <td>0.682689</td>\n",
       "      <td>0.068702</td>\n",
       "      <td>0.074682</td>\n",
       "      <td>0.381037</td>\n",
       "      <td>40821.693546</td>\n",
       "      <td>0.547385</td>\n",
       "      <td>3.996565</td>\n",
       "      <td>0.450343</td>\n",
       "      <td>0.764141</td>\n",
       "      <td>INC75</td>\n",
       "      <td>1</td>\n",
       "      <td>2004-12-31 00:00:00</td>\n",
       "      <td>9413.76</td>\n",
       "      <td>2004</td>\n",
       "    </tr>\n",
       "  </tbody>\n",
       "</table>\n",
       "</div>"
      ],
      "text/plain": [
       "  Sections  HH_TOT  POP13  hh_wchild   college    unempl      help    family  \\\n",
       "0   BKN011   10120  20437   0.184585  0.682689  0.068702  0.074682  0.381037   \n",
       "1   BKN011   10120  20437   0.184585  0.682689  0.068702  0.074682  0.381037   \n",
       "\n",
       "        avg_inc       mgt     rooms   density     adult median  \\\n",
       "0  40821.693546  0.547385  3.996565  0.450343  0.764141  INC75   \n",
       "1  40821.693546  0.547385  3.996565  0.450343  0.764141  INC75   \n",
       "\n",
       "   Material_Type_Code      Dump_Time_Stamp  Tons_Collected  year  \n",
       "0                   1  2003-12-31 00:00:00         5292.83  2003  \n",
       "1                   1  2004-12-31 00:00:00         9413.76  2004  "
      ]
     },
     "execution_count": 478,
     "metadata": {},
     "output_type": "execute_result"
    }
   ],
   "source": [
    "acs_dsny = acs_final.merge(dsny_annual, on='Sections')\n",
    "acs_dsny['year'] = complete.Dump_Time_Stamp.str[:4]\n",
    "acs_dsny.head(2)"
   ]
  },
  {
   "cell_type": "code",
   "execution_count": 480,
   "metadata": {
    "collapsed": true
   },
   "outputs": [],
   "source": [
    "acs_dsny.to_csv(os.getenv('WASTE') + '/Data/acs_dsny.csv')"
   ]
  },
  {
   "cell_type": "code",
   "execution_count": 479,
   "metadata": {
    "collapsed": false
   },
   "outputs": [
    {
     "name": "stdout",
     "output_type": "stream",
     "text": [
      "                            OLS Regression Results                            \n",
      "==============================================================================\n",
      "Dep. Variable:         Tons_Collected   R-squared:                       0.323\n",
      "Model:                            OLS   Adj. R-squared:                  0.302\n",
      "Method:                 Least Squares   F-statistic:                     15.28\n",
      "Date:                Sun, 25 Oct 2015   Prob (F-statistic):           2.68e-16\n",
      "Time:                        15:38:20   Log-Likelihood:                -2173.5\n",
      "No. Observations:                 232   AIC:                             4363.\n",
      "Df Residuals:                     224   BIC:                             4391.\n",
      "Df Model:                           7                                         \n",
      "Covariance Type:            nonrobust                                         \n",
      "==============================================================================\n",
      "                 coef    std err          t      P>|t|      [95.0% Conf. Int.]\n",
      "------------------------------------------------------------------------------\n",
      "Intercept   1.558e+04   3116.465      5.000      0.000      9441.309  2.17e+04\n",
      "college     8417.7710   4690.508      1.795      0.074      -825.395  1.77e+04\n",
      "unempl     -3.371e+04   9487.273     -3.553      0.000     -5.24e+04  -1.5e+04\n",
      "help        1.275e+04   3377.257      3.774      0.000      6090.832  1.94e+04\n",
      "family      5169.7656   4022.090      1.285      0.200     -2756.210  1.31e+04\n",
      "avg_inc        0.0353      0.017      2.055      0.041         0.001     0.069\n",
      "mgt        -1.691e+04   4660.127     -3.628      0.000     -2.61e+04 -7725.591\n",
      "rooms      -1332.6643    523.850     -2.544      0.012     -2364.969  -300.360\n",
      "==============================================================================\n",
      "Omnibus:                       14.561   Durbin-Watson:                   1.319\n",
      "Prob(Omnibus):                  0.001   Jarque-Bera (JB):               15.440\n",
      "Skew:                           0.605   Prob(JB):                     0.000444\n",
      "Kurtosis:                       3.363   Cond. No.                     2.22e+06\n",
      "==============================================================================\n",
      "\n",
      "Warnings:\n",
      "[1] Standard Errors assume that the covariance matrix of the errors is correctly specified.\n",
      "[2] The condition number is large, 2.22e+06. This might indicate that there are\n",
      "strong multicollinearity or other numerical problems.\n"
     ]
    }
   ],
   "source": [
    "import statsmodels.formula.api as smf\n",
    "mod = smf.ols(formula='Tons_Collected ~ college + unempl + help + family + avg_inc + mgt + avg_inc + rooms',\n",
    "              data = acs_dsny[(acs_dsny.year == '2013') & (acs_dsny.Material_Type_Code == 1)]).fit()\n",
    "\n",
    "print(mod.summary())"
   ]
  },
  {
   "cell_type": "code",
   "execution_count": 481,
   "metadata": {
    "collapsed": false
   },
   "outputs": [
    {
     "data": {
      "text/plain": [
       "Index([          u'Sections',             u'HH_TOT',              u'POP13',\n",
       "                u'hh_wchild',            u'college',             u'unempl',\n",
       "                     u'help',             u'family',            u'avg_inc',\n",
       "                      u'mgt',              u'rooms',            u'density',\n",
       "                    u'adult',             u'median', u'Material_Type_Code',\n",
       "          u'Dump_Time_Stamp',     u'Tons_Collected',               u'year'],\n",
       "      dtype='object')"
      ]
     },
     "execution_count": 481,
     "metadata": {},
     "output_type": "execute_result"
    }
   ],
   "source": [
    "acs_dsny.columns"
   ]
  },
  {
   "cell_type": "code",
   "execution_count": 483,
   "metadata": {
    "collapsed": false
   },
   "outputs": [],
   "source": [
    "desc = ['DSNY Section id',\n",
    "        'Total number of households',\n",
    "        'Total population in 2013',\n",
    "        'Percentage of households with children',\n",
    "        'Percentage of persons with a college education',\n",
    "        'Percentage of persons unemployed',\n",
    "        'Percentage of persons receiving food stamps or cash from the government',\n",
    "        'Percentage of family households',\n",
    "        'Average household income',\n",
    "        'Percentage of persons in a management position',\n",
    "        'Average number of rooms by units',\n",
    "        'Average number of individuals by room',\n",
    "        'Percentage of persons aged 15-59',\n",
    "        'Median income bracket',\n",
    "        'Type of waste',\n",
    "        'Time stamp',\n",
    "        'Yearly collected tons',\n",
    "        'Year']\n",
    "\n",
    "metadata = dict()\n",
    "for i,c in enumerate(acs_dsny.columns.tolist()):\n",
    "    metadata[c] = desc[i]\n",
    "pd.DataFrame.from_dict(metadata,orient='index').to_csv(os.getenv('WASTE') + '/Data/acs_dsny_metadata.csv')"
   ]
  },
  {
   "cell_type": "markdown",
   "metadata": {},
   "source": []
  }
 ],
 "metadata": {
  "kernelspec": {
   "display_name": "Python 2",
   "language": "python",
   "name": "python2"
  },
  "language_info": {
   "codemirror_mode": {
    "name": "ipython",
    "version": 2
   },
   "file_extension": ".py",
   "mimetype": "text/x-python",
   "name": "python",
   "nbconvert_exporter": "python",
   "pygments_lexer": "ipython2",
   "version": "2.7.10"
  }
 },
 "nbformat": 4,
 "nbformat_minor": 0
}
